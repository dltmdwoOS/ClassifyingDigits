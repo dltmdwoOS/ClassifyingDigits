{
  "nbformat": 4,
  "nbformat_minor": 0,
  "metadata": {
    "colab": {
      "provenance": []
    },
    "kernelspec": {
      "name": "python3",
      "display_name": "Python 3"
    },
    "language_info": {
      "name": "python"
    }
  },
  "cells": [
    {
      "cell_type": "code",
      "execution_count": 1,
      "metadata": {
        "id": "h8yyRjh-97vs"
      },
      "outputs": [],
      "source": [
        "# import\n",
        "import numpy as np\n",
        "\n",
        "import sklearn.datasets\n",
        "\n",
        "import matplotlib.pyplot as plt\n",
        "%matplotlib inline\n",
        "\n",
        "import pandas as pd\n",
        "\n",
        "from sklearn.model_selection import train_test_split\n",
        "digits = sklearn.datasets.load_digits()                                            #digits 불러오기\n",
        "digits_df = pd.DataFrame(digits.data, columns=digits.feature_names)                #Data Frame\n",
        "\n",
        "X = digits.data # x_data\n",
        "y = digits.target # y_data"
      ]
    },
    {
      "cell_type": "code",
      "source": [
        "# function\n",
        "def show_DF(): return digits_df # 데이터 프레임을 보여줌\n",
        "\n",
        "def set_train(state, size): # 학습시킬 train 데이터를 뽑아냄(random seed, test_size를 인풋으로 넣을 수 있음, class 비율 적정하게 만듦)\n",
        "  global x_train\n",
        "  global y_train\n",
        "  x_train, x_test, y_train, y_test = train_test_split(X, y, test_size=size, random_state=state, stratify=y)\n",
        "\n",
        "def train(): # x_train의 pinv를 구하고, w(예측)를 구한 뒤, y(예측)까지 구함\n",
        "  global w_hat\n",
        "  global y_hat\n",
        "  n, d = len(x_train), 64\n",
        "  w_hat = np.zeros((n,))\n",
        "  A = np.array(x_train)\n",
        "  Apinv = np.linalg.pinv(A)\n",
        "  w_hat = np.dot(Apinv, y_train)\n",
        "  y_hat = np.dot(A, w_hat)\n",
        "\n",
        "def get_round_hat(): # y_hat의 반올림값\n",
        "  global y_round_hat\n",
        "  y_round_hat = []\n",
        "  for i in range(len(y_hat)):\n",
        "    y_round_hat.append(round(y_hat[i]))\n",
        "\n",
        "def accuracy(): # O.K when -1 <= ERROR <= 1\n",
        "  res = 0\n",
        "  for i in range(len(y_hat)):\n",
        "    if -1 <= y_train[i]-y_round_hat[i] <= 1: res += 1\n",
        "  return res / len(y_hat)\n",
        "\n",
        "def more_accuracy():\n",
        "  res = 0\n",
        "  for i in range(len(y_hat)):\n",
        "    if y_train[i] == y_round_hat[i] : res += 1\n",
        "  return res / len(y_hat)\n",
        "\n",
        "def show_scatter_of_y_hat(): # y_train과 y_hat에 대한 산점도\n",
        "  plt.scatter(y_train, y_hat)\n",
        "  plt.show()\n",
        "\n",
        "def show_scatter_of_y_round_hat(): # y_train과 y_round_hat에 대한 산점도\n",
        "  plt.scatter(y_train, y_round_hat)\n",
        "  plt.show()"
      ],
      "metadata": {
        "id": "rU6FmDjB-MPi"
      },
      "execution_count": 2,
      "outputs": []
    },
    {
      "cell_type": "code",
      "source": [
        "# USE FUNCTION\n",
        "set_train(883, 0.2)\n",
        "train()\n",
        "get_round_hat()"
      ],
      "metadata": {
        "id": "dZ4tRhOmBPGr"
      },
      "execution_count": 7,
      "outputs": []
    },
    {
      "cell_type": "code",
      "source": [
        "# RESULT\n",
        "print(accuracy())\n",
        "show_scatter_of_y_hat()"
      ],
      "metadata": {
        "colab": {
          "base_uri": "https://localhost:8080/",
          "height": 449
        },
        "id": "JpNXjpLkCOx3",
        "outputId": "739fb323-f406-4c52-b878-76033b813062"
      },
      "execution_count": 8,
      "outputs": [
        {
          "output_type": "stream",
          "name": "stdout",
          "text": [
            "0.6325678496868476\n"
          ]
        },
        {
          "output_type": "display_data",
          "data": {
            "text/plain": [
              "<Figure size 640x480 with 1 Axes>"
            ],
            "image/png": "[encoded data removed]"
          },
          "metadata": {}
        }
      ]
    },
    {
      "cell_type": "code",
      "source": [
        "# MORE FURTHER!\n",
        "max = 0\n",
        "who = 0\n",
        "for i in range(1000): # examination for...\n",
        "  set_train(i, 0.95)\n",
        "  train()\n",
        "  get_round_hat()\n",
        "  acc = accuracy()\n",
        "  if acc > max:\n",
        "    max = acc\n",
        "    who = i"
      ],
      "metadata": {
        "id": "IrawbxdDD5Qx"
      },
      "execution_count": null,
      "outputs": []
    },
    {
      "cell_type": "code",
      "source": [
        "print(\"acc =\", max, \"when state =\", who)\n",
        "print(more_accuracy())\n",
        "show_scatter_of_y_hat()"
      ],
      "metadata": {
        "colab": {
          "base_uri": "https://localhost:8080/",
          "height": 223
        },
        "id": "uwT-4GWyETuH",
        "outputId": "88291a4a-ac4f-43ae-eb16-fd109e092f31"
      },
      "execution_count": 9,
      "outputs": [
        {
          "output_type": "error",
          "ename": "NameError",
          "evalue": "ignored",
          "traceback": [
            "\u001b[0;31m---------------------------------------------------------------------------\u001b[0m",
            "\u001b[0;31mNameError\u001b[0m                                 Traceback (most recent call last)",
            "\u001b[0;32m<ipython-input-9-2d2c518c5f4b>\u001b[0m in \u001b[0;36m<cell line: 1>\u001b[0;34m()\u001b[0m\n\u001b[0;32m----> 1\u001b[0;31m \u001b[0mprint\u001b[0m\u001b[0;34m(\u001b[0m\u001b[0;34m\"acc =\"\u001b[0m\u001b[0;34m,\u001b[0m \u001b[0mmax\u001b[0m\u001b[0;34m,\u001b[0m \u001b[0;34m\"when state =\"\u001b[0m\u001b[0;34m,\u001b[0m \u001b[0mwho\u001b[0m\u001b[0;34m)\u001b[0m\u001b[0;34m\u001b[0m\u001b[0;34m\u001b[0m\u001b[0m\n\u001b[0m\u001b[1;32m      2\u001b[0m \u001b[0mprint\u001b[0m\u001b[0;34m(\u001b[0m\u001b[0mmore_accuracy\u001b[0m\u001b[0;34m(\u001b[0m\u001b[0;34m)\u001b[0m\u001b[0;34m)\u001b[0m\u001b[0;34m\u001b[0m\u001b[0;34m\u001b[0m\u001b[0m\n\u001b[1;32m      3\u001b[0m \u001b[0mshow_scatter_of_y_hat\u001b[0m\u001b[0;34m(\u001b[0m\u001b[0;34m)\u001b[0m\u001b[0;34m\u001b[0m\u001b[0;34m\u001b[0m\u001b[0m\n",
            "\u001b[0;31mNameError\u001b[0m: name 'who' is not defined"
          ]
        }
      ]
    },
    {
      "cell_type": "code",
      "source": [
        "def Whatisit(n):\n",
        "  imgData = digits.data[n]\n",
        "  y = np.dot(imgData.T, w_hat)\n",
        "  result = round(y)\n",
        "  return result\n",
        "\n",
        "print(Whatisit(1))"
      ],
      "metadata": {
        "colab": {
          "base_uri": "https://localhost:8080/"
        },
        "id": "M99owOEAYKjH",
        "outputId": "e763ef4f-01fe-4c08-dac3-24b165cd73d8"
      },
      "execution_count": 25,
      "outputs": [
        {
          "output_type": "stream",
          "name": "stdout",
          "text": [
            "1\n"
          ]
        }
      ]
    }
  ]
}